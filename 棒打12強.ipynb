{
 "cells": [
  {
   "cell_type": "code",
   "execution_count": 3,
   "metadata": {},
   "outputs": [
    {
     "name": "stdout",
     "output_type": "stream",
     "text": [
      "o,o,-,x,-\n",
      "x,-,x,o,x\n",
      "1,2\n"
     ]
    }
   ],
   "source": [
    "line_one = input()\n",
    "line_two = input()\n",
    "line_one = line_one.split(\",\")\n",
    "line_two = line_two.split(\",\")\n",
    "# print(line_one)\n",
    "# print(line_two)\n",
    "\n",
    "# Player 1.\n",
    "circle_one = 0\n",
    "minus_one = 0\n",
    "cross_one = 0\n",
    "for i in range(len(line_one)):\n",
    "    if line_one[i] == 'o':\n",
    "        circle_one += 1\n",
    "    elif line_one[i] == '-':\n",
    "        minus_one += 1\n",
    "    elif line_one[i] == 'x':\n",
    "        cross_one += 1\n",
    "total_one = circle_one + minus_one + cross_one\n",
    "hit_one = circle_one + cross_one\n",
    "percent_one = circle_one/hit_one\n",
    "\n",
    "# Player 2.\n",
    "circle_two = 0\n",
    "minus_two = 0\n",
    "cross_two = 0\n",
    "for i in range(len(line_two)):\n",
    "    if line_two[i] == 'o':\n",
    "        circle_two += 1\n",
    "    elif line_two[i] == '-':\n",
    "        minus_two += 1\n",
    "    elif line_two[i] == 'x':\n",
    "        cross_two += 1\n",
    "total_two = circle_two + minus_two + cross_two\n",
    "hit_two = circle_two + cross_two\n",
    "percent_two = circle_two/hit_two\n",
    "\n",
    "# print(percent_one)\n",
    "# print(percent_two)\n",
    "\n",
    "# print(hit_one)\n",
    "# print(hit_two)\n",
    "\n",
    "# Determine who is better.\n",
    "if circle_one*hit_two > circle_two*hit_one:\n",
    "    print(1, end=\"\")\n",
    "    print(\",\", end=\"\")\n",
    "    print(circle_one)\n",
    "elif circle_one*hit_two < circle_two*hit_one:\n",
    "    print(2, end=\"\")\n",
    "    print(\",\", end=\"\")\n",
    "    print(circle_two)\n",
    "elif circle_one*hit_two == circle_two*hit_one:\n",
    "        if circle_one == circle_two:\n",
    "            print(1, end=\"\")\n",
    "            print(\",\", end=\"\")\n",
    "            print(circle_one)\n",
    "        elif circle_one < circle_two:\n",
    "            print(2, end=\"\")\n",
    "            print(\",\", end=\"\")\n",
    "            print(circle_two)\n",
    "        elif circle_one > circle_two:\n",
    "            print(1, end=\"\")\n",
    "            print(\",\", end=\"\")\n",
    "            print(circle_one)"
   ]
  },
  {
   "cell_type": "code",
   "execution_count": null,
   "metadata": {},
   "outputs": [],
   "source": []
  }
 ],
 "metadata": {
  "kernelspec": {
   "display_name": "Python 3",
   "language": "python",
   "name": "python3"
  },
  "language_info": {
   "codemirror_mode": {
    "name": "ipython",
    "version": 3
   },
   "file_extension": ".py",
   "mimetype": "text/x-python",
   "name": "python",
   "nbconvert_exporter": "python",
   "pygments_lexer": "ipython3",
   "version": "3.8.3"
  }
 },
 "nbformat": 4,
 "nbformat_minor": 4
}
