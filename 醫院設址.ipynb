{
 "cells": [
  {
   "cell_type": "code",
   "execution_count": 33,
   "metadata": {},
   "outputs": [
    {
     "name": "stdout",
     "output_type": "stream",
     "text": [
      "3,3,2\n",
      "5,3,12,20\n",
      "10,2,18,5\n",
      "7,1,7,19\n",
      "6,9,3,17\n",
      "[39, 71, 72, 77, 52, 79, 100, 100, 47, 85, 100, 90, 36, 52, 80, 60]\n",
      "100\n"
     ]
    }
   ],
   "source": [
    "line_one = input()\n",
    "line_one = line_one.split(\",\")\n",
    "# print(line_one)\n",
    "n = int(line_one[0])\n",
    "m = int(line_one[1])\n",
    "r = int(line_one[2])\n",
    "# print(n)\n",
    "# print(m)\n",
    "# print(r)\n",
    "total = 0\n",
    "total_list = []\n",
    "\n",
    "for i in range(n+1):\n",
    "    line = input()\n",
    "    line = line.split(\",\")\n",
    "    lst = []\n",
    "    for j in range(len(line)):\n",
    "        lst.append(int(line[j]))\n",
    "#     print(lst)\n",
    "    total_list.append(lst)\n",
    "# print(total_list)\n",
    "\n",
    "max_list = []\n",
    "# print(\"total_list[i][j]\")\n",
    "# print(total_list[i][j])\n",
    "\n",
    "for i in range(n+1):\n",
    "    for j in range(m+1):\n",
    "        x = i\n",
    "        y = j\n",
    "        total = 0\n",
    "        for k in range(n+1):\n",
    "            for l in range(m+1):\n",
    "                x_gap = k - x \n",
    "                if x_gap < 0:\n",
    "                    x_gap = x_gap*(-1)\n",
    "                y_gap = l - y\n",
    "                if y_gap < 0:\n",
    "                    y_gap = y_gap*(-1)\n",
    "                if x_gap + y_gap <= r:\n",
    "                    total += total_list[k][l]\n",
    "        max_list.append(total)\n",
    "        total = 0\n",
    "# print(max_list)\n",
    "print(max(max_list))"
   ]
  },
  {
   "cell_type": "code",
   "execution_count": null,
   "metadata": {},
   "outputs": [],
   "source": [
    "lst = [\"1\",\"2\",\"3\"]\n",
    "lst1 = [\"2\",\"3\",\"4\"]\n",
    "lst + lst1"
   ]
  },
  {
   "cell_type": "code",
   "execution_count": null,
   "metadata": {},
   "outputs": [],
   "source": []
  }
 ],
 "metadata": {
  "kernelspec": {
   "display_name": "Python 3",
   "language": "python",
   "name": "python3"
  },
  "language_info": {
   "codemirror_mode": {
    "name": "ipython",
    "version": 3
   },
   "file_extension": ".py",
   "mimetype": "text/x-python",
   "name": "python",
   "nbconvert_exporter": "python",
   "pygments_lexer": "ipython3",
   "version": "3.8.3"
  }
 },
 "nbformat": 4,
 "nbformat_minor": 4
}
