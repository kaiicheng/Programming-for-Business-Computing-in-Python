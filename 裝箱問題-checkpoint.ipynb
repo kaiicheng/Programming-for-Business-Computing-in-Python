{
 "cells": [
  {
   "cell_type": "code",
   "execution_count": 3,
   "metadata": {},
   "outputs": [
    {
     "name": "stdout",
     "output_type": "stream",
     "text": [
      "3,11\n",
      "10,3,6\n",
      "2\n"
     ]
    }
   ],
   "source": [
    "line_one = input()\n",
    "line_one = line_one.split(\",\")\n",
    "line_two = input()\n",
    "line_two = line_two.split(\",\")\n",
    "new_line_two = []\n",
    "n = int(line_one[0])\n",
    "b = int(line_one[1])\n",
    "# print(n)\n",
    "# print(b)\n",
    "for i in range(len(line_two)):\n",
    "    new_line_two.append(int(line_two[i]))\n",
    "# print(new_line_two)\n",
    "\n",
    "new_line_two.sort(reverse=True)\n",
    "# print(new_line_two)\n",
    "\n",
    "loaded_kg = []\n",
    "loaded_kg.append(b)\n",
    "# print(loaded_kg)\n",
    "for i in range(len(new_line_two)):\n",
    "#     print(\"i\")\n",
    "#     print(i)\n",
    "    w = new_line_two[i]\n",
    "#     print(\"w\")\n",
    "#     print(w)\n",
    "    for j in range(len(loaded_kg)):\n",
    "#         print(\"j\")\n",
    "#         print(j)\n",
    "        kg = loaded_kg[j]\n",
    "        if loaded_kg[j] >= w:\n",
    "            loaded_kg[j] = kg-w\n",
    "#             print(loaded_kg)\n",
    "            break\n",
    "        elif j == len(loaded_kg)-1:\n",
    "            loaded_kg.append(b-w)\n",
    "#             print(loaded_kg)\n",
    "            break\n",
    "#         print(loaded_kg)\n",
    "print(len(loaded_kg))"
   ]
  }
 ],
 "metadata": {
  "kernelspec": {
   "display_name": "Python 3",
   "language": "python",
   "name": "python3"
  },
  "language_info": {
   "codemirror_mode": {
    "name": "ipython",
    "version": 3
   },
   "file_extension": ".py",
   "mimetype": "text/x-python",
   "name": "python",
   "nbconvert_exporter": "python",
   "pygments_lexer": "ipython3",
   "version": "3.8.3"
  }
 },
 "nbformat": 4,
 "nbformat_minor": 4
}
